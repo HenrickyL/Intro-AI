{
 "cells": [
  {
   "cell_type": "code",
   "execution_count": 1,
   "metadata": {},
   "outputs": [],
   "source": [
    "from asyncio import sleep\n",
    "from time import time\n",
    "from typing import Callable\n",
    "from map import Map\n",
    "from node import Node\n",
    "\n",
    "map = Map.readData('data.txt')\n",
    "origins =['Neamt','Eforie','Lugoj','Arad','Vaslui','Oradea','Iasi','Timisoara']\n",
    "destiny = 'Bucharest'\n",
    "distanceMap = Map.readDistanceMap('bucharest_dist.json')\n",
    "\n",
    "algorithms = {\n",
    "  'bfs':lambda o,d : Map.bfs(map,o,d),\n",
    "  'ucs':lambda o,d : Map.ucs(map,o,d),\n",
    "  'dfs':lambda o,d : Map.dfs(map,o,d),\n",
    "  'gcs':lambda o,d : Map.gcs(map,o,d,distanceMap),\n",
    "  'A*':lambda o,d : Map.aStar(map,o,d,distanceMap),\n",
    "}\n",
    "\n",
    "def runSearch(algorithm, origin,target, solutions):\n",
    "    res = algorithm(origin,target)\n",
    "    solutions['Origem'].append(origin)\n",
    "    solutions['Solução'].append(res.fatherPath())\n",
    "    solutions['Custo'].append(res.cost)\n",
    "\n",
    "\n",
    "\n",
    "\n",
    "def runAllAlgorithm():\n",
    "  result = {\n",
    "  }\n",
    "  for name,func in algorithms.items():\n",
    "    solutions = {\n",
    "      'Origem': [],\n",
    "      'Solução': [],\n",
    "      'Custo': []\n",
    "      }\n",
    "    for origin in origins:\n",
    "      runSearch(func, origin,destiny,solutions)\n",
    "    result[name] = solutions\n",
    "  return result\n",
    "\n"
   ]
  },
  {
   "cell_type": "code",
   "execution_count": 2,
   "metadata": {},
   "outputs": [],
   "source": [
    "res = runAllAlgorithm()"
   ]
  },
  {
   "cell_type": "code",
   "execution_count": 3,
   "metadata": {},
   "outputs": [
    {
     "name": "stdout",
     "output_type": "stream",
     "text": [
      "{'bfs': {'Origem': ['Neamt', 'Eforie', 'Lugoj', 'Arad', 'Vaslui', 'Oradea', 'Iasi', 'Timisoara'], 'Solução': ['Neamt, Iasi, Vaslui, Urziceni, Bucharest, ', 'Eforie, Hirsova, Urziceni, Bucharest, ', 'Lugoj, Mehadia, Drobeta, Craiova, Pitesti, Bucharest, ', 'Arad, Sibiu, Fagaras, Bucharest, ', 'Vaslui, Urziceni, Bucharest, ', 'Oradea, Sibiu, Fagaras, Bucharest, ', 'Iasi, Vaslui, Urziceni, Bucharest, ', 'Timisoara, Arad, Sibiu, Fagaras, Bucharest, '], 'Custo': [406, 269, 504, 450, 227, 461, 319, 568]}, 'ucs': {'Origem': ['Neamt', 'Eforie', 'Lugoj', 'Arad', 'Vaslui', 'Oradea', 'Iasi', 'Timisoara'], 'Solução': ['Neamt, Iasi, Vaslui, Urziceni, Bucharest, ', 'Eforie, Hirsova, Urziceni, Bucharest, ', 'Lugoj, Mehadia, Drobeta, Craiova, Pitesti, Bucharest, ', 'Arad, Sibiu, Rimnicu Vilcea, Pitesti, Bucharest, ', 'Vaslui, Urziceni, Bucharest, ', 'Oradea, Sibiu, Rimnicu Vilcea, Pitesti, Bucharest, ', 'Iasi, Vaslui, Urziceni, Bucharest, ', 'Timisoara, Lugoj, Mehadia, Drobeta, Craiova, Pitesti, Bucharest, '], 'Custo': [406, 269, 504, 418, 227, 429, 319, 515]}, 'dfs': {'Origem': ['Neamt', 'Eforie', 'Lugoj', 'Arad', 'Vaslui', 'Oradea', 'Iasi', 'Timisoara'], 'Solução': ['Neamt, Iasi, Vaslui, Urziceni, Bucharest, ', 'Eforie, Hirsova, Urziceni, Bucharest, ', 'Lugoj, Timisoara, Arad, Sibiu, Fagaras, Bucharest, ', 'Arad, Timisoara, Lugoj, Mehadia, Drobeta, Craiova, Pitesti, Bucharest, ', 'Vaslui, Urziceni, Bucharest, ', 'Oradea, Sibiu, Fagaras, Bucharest, ', 'Iasi, Vaslui, Urziceni, Bucharest, ', 'Timisoara, Arad, Sibiu, Fagaras, Bucharest, '], 'Custo': [406, 269, 679, 633, 227, 461, 319, 568]}, 'gcs': {'Origem': ['Neamt', 'Eforie', 'Lugoj', 'Arad', 'Vaslui', 'Oradea', 'Iasi', 'Timisoara'], 'Solução': ['Neamt, Iasi, Vaslui, Urziceni, Bucharest, ', 'Eforie, Hirsova, Urziceni, Bucharest, ', 'Lugoj, Mehadia, Drobeta, Craiova, Pitesti, Bucharest, ', 'Arad, Sibiu, Fagaras, Bucharest, ', 'Vaslui, Urziceni, Bucharest, ', 'Oradea, Sibiu, Fagaras, Bucharest, ', 'Iasi, Vaslui, Urziceni, Bucharest, ', 'Timisoara, Lugoj, Mehadia, Drobeta, Craiova, Pitesti, Bucharest, '], 'Custo': [406, 269, 504, 450, 227, 461, 319, 515]}, 'A*': {'Origem': ['Neamt', 'Eforie', 'Lugoj', 'Arad', 'Vaslui', 'Oradea', 'Iasi', 'Timisoara'], 'Solução': ['Neamt, Iasi, Vaslui, Urziceni, Bucharest, ', 'Eforie, Hirsova, Urziceni, Bucharest, ', 'Lugoj, Mehadia, Drobeta, Craiova, Pitesti, Bucharest, ', 'Arad, Sibiu, Rimnicu Vilcea, Pitesti, Bucharest, ', 'Vaslui, Urziceni, Bucharest, ', 'Oradea, Sibiu, Rimnicu Vilcea, Pitesti, Bucharest, ', 'Iasi, Vaslui, Urziceni, Bucharest, ', 'Timisoara, Lugoj, Mehadia, Drobeta, Craiova, Pitesti, Bucharest, '], 'Custo': [406, 269, 504, 418, 227, 429, 319, 515]}}\n"
     ]
    }
   ],
   "source": [
    "print(res)"
   ]
  },
  {
   "cell_type": "code",
   "execution_count": 4,
   "metadata": {},
   "outputs": [],
   "source": [
    "import pandas as pd\n",
    "\n",
    "with open('searchLab.tex','a',encoding='utf-8') as file:\n",
    "  for key,value in res.items():\n",
    "    file.write(f'{key}\\n')\n",
    "    aaa:str = pd.DataFrame(res[key]).style.hide(axis='index').to_latex()\n",
    "    aaa = aaa.replace('\\n','\\n\\hline\\n')\n",
    "    file.write(f'{aaa}\\n')"
   ]
  },
  {
   "cell_type": "code",
   "execution_count": null,
   "metadata": {},
   "outputs": [],
   "source": []
  }
 ],
 "metadata": {
  "kernelspec": {
   "display_name": "Python 3.10.4 64-bit",
   "language": "python",
   "name": "python3"
  },
  "language_info": {
   "codemirror_mode": {
    "name": "ipython",
    "version": 3
   },
   "file_extension": ".py",
   "mimetype": "text/x-python",
   "name": "python",
   "nbconvert_exporter": "python",
   "pygments_lexer": "ipython3",
   "version": "3.10.4"
  },
  "orig_nbformat": 4,
  "vscode": {
   "interpreter": {
    "hash": "369f2c481f4da34e4445cda3fffd2e751bd1c4d706f27375911949ba6bb62e1c"
   }
  }
 },
 "nbformat": 4,
 "nbformat_minor": 2
}
